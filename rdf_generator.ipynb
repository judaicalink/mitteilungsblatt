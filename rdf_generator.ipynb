{
 "cells": [
  {
   "cell_type": "code",
   "execution_count": 3,
   "metadata": {
    "collapsed": true,
    "pycharm": {
     "name": "#%%\n"
    }
   },
   "outputs": [],
   "source": [
    "# RDF Generator"
   ]
  },
  {
   "cell_type": "markdown",
   "source": [
    "# Ontology\n"
   ],
   "metadata": {
    "collapsed": false,
    "pycharm": {
     "name": "#%% md\n"
    }
   }
  },
  {
   "cell_type": "code",
   "execution_count": 4,
   "outputs": [],
   "source": [
    "import os\n",
    "import re\n",
    "import gzip\n",
    "import shutil\n",
    "import unicodedata\n",
    "from datetime import datetime\n",
    "\n",
    "from SPARQLWrapper import RDF\n",
    "from rdflib import Namespace, URIRef, Graph, Literal\n",
    "from rdflib.namespace import RDF"
   ],
   "metadata": {
    "collapsed": false,
    "pycharm": {
     "name": "#%%\n"
    }
   }
  },
  {
   "cell_type": "code",
   "execution_count": 5,
   "outputs": [],
   "source": [
    "file_name = 'mitteilungsblatt-names-alpha-01.ttl'\n",
    "working_path = \"./\"\n",
    "output_path = \"/data/judaicalink/dumps/mb/current/\"\n",
    "\n",
    "graph = Graph()\n",
    "\n",
    "skos = Namespace(\"http://www.w3.org/2004/02/skos/core#\")\n",
    "jl = Namespace(\"http://data.judaicalink.org/ontology/\")\n",
    "foaf = Namespace(\"http://xmlns.com/foaf/0.1/\")\n",
    "gndo = Namespace(\"http://d-nb.info/standards/elementset/gnd#\")\n",
    "owl = Namespace(\"http://www.w3.org/2002/07/owl#\")\n",
    "edm = Namespace(\"http://www.europeana.eu/schemas/edm/\")\n",
    "dc = Namespace(\"http://purl.org/dc/elements/1.1/\")\n",
    "\n",
    "graph.bind('skos', skos)\n",
    "graph.bind('foaf', foaf)\n",
    "graph.bind('jl', jl)\n",
    "graph.bind('gndo', gndo)\n",
    "graph.bind('owl', owl)\n",
    "graph.bind('edm', edm)\n",
    "graph.bind('dc', dc)\n"
   ],
   "metadata": {
    "collapsed": false,
    "pycharm": {
     "name": "#%%\n"
    }
   }
  },
  {
   "cell_type": "code",
   "execution_count": 6,
   "outputs": [],
   "source": [
    "import pandas as pd"
   ],
   "metadata": {
    "collapsed": false,
    "pycharm": {
     "name": "#%%\n"
    }
   }
  },
  {
   "cell_type": "code",
   "execution_count": 24,
   "outputs": [
    {
     "name": "stdout",
     "output_type": "stream",
     "text": [
      "./results/csv/2_MB_Nachtraege_1933-1961.csv\n",
      "./results/csv/3_Namensregister_Jubilaen_Nachrufe_1962-1965_v02_UW.csv\n",
      "./results/csv/8_Register_MB_1975-1977.pdf.csv\n",
      "./results/csv/10_MB-Personalia_1981-1982.pdf.csv\n",
      "./results/csv/6_Namensregister_MB_1970-1973.pdf.csv\n",
      "./results/csv/7_MB-Jubilaen-Register1973-1974.pdf.csv\n",
      "./results/csv/1_Namensregister_MB_1933-1961_Geburtstage_etc.pdf.csv\n",
      "./results/csv/12_MB-RegisterJuni1985-Juli1990.pdf.csv\n",
      "./results/csv/9_GeburtstageNachrufeKulturnotizen_1978-1980.pdf.csv\n",
      "./results/csv/5_Namensregister_Jubilaen_Nachrufe_1968-1969.pdf.csv\n",
      "./results/csv/4_Namensregister_Jubilaen_Nachrufe_1966-1968.pdf.csv\n",
      "./results/csv/11_MB-JubilaenBiographienRezensionen1983-85.pdf.csv\n"
     ]
    },
    {
     "data": {
      "text/plain": "     first name           last name issue_date                    other  \\\n146     Gershom            Schölern    21.4.61                 Flusser)   \n180        Kurt                 kay   13.83.76                  80  HIT   \n702      Salman            levontin    28.6.40           David  :achruf   \n272    Marianne            Littmann          -            Todanz„9.8.63   \n8         Paula              Arnold    13.9.68              Nachruf(KL)   \n1277    Jizchak  Volcani(Wilkansky)          -            Prof  Jizchak   \n153      Fritzi            Hassary‚          -    Todesnachricht  21269   \n676      Helmut               Lange          -  (NewYork)  46/1950  Tod   \n1256      Georg             Tuchler          -         13,8.54  iachruf   \n35         Hans               Beyth   21.12.67              20.Todestag   \n\n      title nachruf/tode jub Geburt/Tod               ID  \n146       -            -   -          -   MBNR.2.PER.146  \n180       -            -   -          -   MBNR.8.PER.180  \n702       -            -   -          -   MBNR.1.PER.702  \n272       -            -   -          -              NaN  \n8         -            -   -          -     MBNR.5.PER.8  \n1277  Prof.            -   -          -  MBNR.1.PER.1277  \n153       -            -   -          -   MBNR.5.PER.153  \n676       -            -   -          -   MBNR.1.PER.676  \n1256      -            -   -          -  MBNR.1.PER.1256  \n35        -            -   -          -    MBNR.4.PER.35  ",
      "text/html": "<div>\n<style scoped>\n    .dataframe tbody tr th:only-of-type {\n        vertical-align: middle;\n    }\n\n    .dataframe tbody tr th {\n        vertical-align: top;\n    }\n\n    .dataframe thead th {\n        text-align: right;\n    }\n</style>\n<table border=\"1\" class=\"dataframe\">\n  <thead>\n    <tr style=\"text-align: right;\">\n      <th></th>\n      <th>first name</th>\n      <th>last name</th>\n      <th>issue_date</th>\n      <th>other</th>\n      <th>title</th>\n      <th>nachruf/tode</th>\n      <th>jub</th>\n      <th>Geburt/Tod</th>\n      <th>ID</th>\n    </tr>\n  </thead>\n  <tbody>\n    <tr>\n      <th>146</th>\n      <td>Gershom</td>\n      <td>Schölern</td>\n      <td>21.4.61</td>\n      <td>Flusser)</td>\n      <td>-</td>\n      <td>-</td>\n      <td>-</td>\n      <td>-</td>\n      <td>MBNR.2.PER.146</td>\n    </tr>\n    <tr>\n      <th>180</th>\n      <td>Kurt</td>\n      <td>kay</td>\n      <td>13.83.76</td>\n      <td>80  HIT</td>\n      <td>-</td>\n      <td>-</td>\n      <td>-</td>\n      <td>-</td>\n      <td>MBNR.8.PER.180</td>\n    </tr>\n    <tr>\n      <th>702</th>\n      <td>Salman</td>\n      <td>levontin</td>\n      <td>28.6.40</td>\n      <td>David  :achruf</td>\n      <td>-</td>\n      <td>-</td>\n      <td>-</td>\n      <td>-</td>\n      <td>MBNR.1.PER.702</td>\n    </tr>\n    <tr>\n      <th>272</th>\n      <td>Marianne</td>\n      <td>Littmann</td>\n      <td>-</td>\n      <td>Todanz„9.8.63</td>\n      <td>-</td>\n      <td>-</td>\n      <td>-</td>\n      <td>-</td>\n      <td>NaN</td>\n    </tr>\n    <tr>\n      <th>8</th>\n      <td>Paula</td>\n      <td>Arnold</td>\n      <td>13.9.68</td>\n      <td>Nachruf(KL)</td>\n      <td>-</td>\n      <td>-</td>\n      <td>-</td>\n      <td>-</td>\n      <td>MBNR.5.PER.8</td>\n    </tr>\n    <tr>\n      <th>1277</th>\n      <td>Jizchak</td>\n      <td>Volcani(Wilkansky)</td>\n      <td>-</td>\n      <td>Prof  Jizchak</td>\n      <td>Prof.</td>\n      <td>-</td>\n      <td>-</td>\n      <td>-</td>\n      <td>MBNR.1.PER.1277</td>\n    </tr>\n    <tr>\n      <th>153</th>\n      <td>Fritzi</td>\n      <td>Hassary‚</td>\n      <td>-</td>\n      <td>Todesnachricht  21269</td>\n      <td>-</td>\n      <td>-</td>\n      <td>-</td>\n      <td>-</td>\n      <td>MBNR.5.PER.153</td>\n    </tr>\n    <tr>\n      <th>676</th>\n      <td>Helmut</td>\n      <td>Lange</td>\n      <td>-</td>\n      <td>(NewYork)  46/1950  Tod</td>\n      <td>-</td>\n      <td>-</td>\n      <td>-</td>\n      <td>-</td>\n      <td>MBNR.1.PER.676</td>\n    </tr>\n    <tr>\n      <th>1256</th>\n      <td>Georg</td>\n      <td>Tuchler</td>\n      <td>-</td>\n      <td>13,8.54  iachruf</td>\n      <td>-</td>\n      <td>-</td>\n      <td>-</td>\n      <td>-</td>\n      <td>MBNR.1.PER.1256</td>\n    </tr>\n    <tr>\n      <th>35</th>\n      <td>Hans</td>\n      <td>Beyth</td>\n      <td>21.12.67</td>\n      <td>20.Todestag</td>\n      <td>-</td>\n      <td>-</td>\n      <td>-</td>\n      <td>-</td>\n      <td>MBNR.4.PER.35</td>\n    </tr>\n  </tbody>\n</table>\n</div>"
     },
     "execution_count": 24,
     "metadata": {},
     "output_type": "execute_result"
    }
   ],
   "source": [
    "from os import walk\n",
    "\n",
    "columns=['first name', 'last name', 'title', 'jub', 'issue_date', 'other', 'nachruf/tode','Geburt/Tod', 'ID']\n",
    "\n",
    "df = pd.DataFrame()\n",
    "\n",
    "path = './results/csv'\n",
    "def read_csv_files(path):\n",
    "\n",
    "    df_frames = []\n",
    "\n",
    "    for (dirpath, dirnames, filenames) in walk(path):\n",
    "        for file in filenames:\n",
    "            print(os.path.join(path, file))\n",
    "            df = pd.read_csv(os.path.join(path, file),\n",
    "                             #names=columns,\n",
    "                             delimiter=';',\n",
    "                             encoding='utf-8',\n",
    "                             engine='python',\n",
    "                             encoding_errors='ignore')\n",
    "            df_frames.append(df)\n",
    "    return pd.concat(df_frames)\n",
    "\n",
    "df = read_csv_files(path=path)\n",
    "\n",
    "df.sample(10)"
   ],
   "metadata": {
    "collapsed": false,
    "pycharm": {
     "name": "#%%\n"
    }
   }
  },
  {
   "cell_type": "code",
   "execution_count": null,
   "outputs": [],
   "source": [
    "# Generate the rdf"
   ],
   "metadata": {
    "collapsed": false,
    "pycharm": {
     "name": "#%%\n"
    }
   }
  },
  {
   "cell_type": "code",
   "execution_count": null,
   "outputs": [],
   "source": [
    "def compress_ttl(file_name):\n",
    "    \"\"\"\n",
    "    Compress the ttl file.\n",
    "    returns: compressed ttl file.\n",
    "    \"\"\"\n",
    "    # compress the ttl file\n",
    "    try:\n",
    "        with open(file_name, 'rb') as f_in:\n",
    "            with gzip.open(file_name + '.gz', 'wb') as f_out:\n",
    "                shutil.copyfileobj(f_in, f_out)\n",
    "    except Exception as e:\n",
    "        print(\"Could not compress file. Error: \", e)\n"
   ],
   "metadata": {
    "collapsed": false,
    "pycharm": {
     "name": "#%%\n"
    }
   }
  },
  {
   "cell_type": "code",
   "execution_count": 1,
   "outputs": [],
   "source": [
    "def move_ttl_file(file_name):\n",
    "    \"\"\"\n",
    "    Move the ttl file to the correct folder.\n",
    "    returns: the path of the ttl file.\n",
    "    \"\"\"\n",
    "    # move the ttl file to the correct folder\n",
    "    try:\n",
    "        shutil.move(file_name, output_path)\n",
    "    except Exception as e:\n",
    "        print(\"Could not move file. Error: \", e)\n"
   ],
   "metadata": {
    "collapsed": false,
    "pycharm": {
     "name": "#%%\n"
    }
   }
  },
  {
   "cell_type": "code",
   "execution_count": 2,
   "outputs": [],
   "source": [
    "def clean_url_string(string):\n",
    "    \"\"\"\n",
    "    Clean the name of a person.\n",
    "    returns: cleaned name.\n",
    "    \"\"\"\n",
    "\n",
    "    string = string.strip()\n",
    "    string = string.replace('\\'', '')\n",
    "    string = string.replace('\"', '')\n",
    "    string = string.replace(',', '_')\n",
    "    string = string.replace('<<', '')\n",
    "    string = string.replace('>>', '')\n",
    "    string = string.replace('|', '_')\n",
    "    string = string.replace(' ', '')\n",
    "    string = string.replace('<', '_')\n",
    "    string = string.replace('>', '_')\n",
    "    string = string.replace('.', '')\n",
    "    string = string.replace('[', '')\n",
    "    string = string.replace(']', '')\n",
    "    string = string.replace('(', '')\n",
    "    string = string.replace(')', '')\n",
    "    string = string.replace('{', '')\n",
    "    string = string.replace('}', '')\n",
    "    string = string.replace('#', '')\n",
    "    string = string.replace('-', '')\n",
    "    string = string.replace('?', '')\n",
    "\n",
    "    string =  unicodedata.normalize('NFKD', string).encode('ascii', 'ignore')\n",
    "    return string"
   ],
   "metadata": {
    "collapsed": false,
    "pycharm": {
     "name": "#%%\n"
    }
   }
  },
  {
   "cell_type": "code",
   "execution_count": 3,
   "outputs": [
    {
     "ename": "SyntaxError",
     "evalue": "incomplete input (1568686394.py, line 2)",
     "output_type": "error",
     "traceback": [
      "\u001B[0;36m  Cell \u001B[0;32mIn [3], line 2\u001B[0;36m\u001B[0m\n\u001B[0;31m    \u001B[0m\n\u001B[0m    ^\u001B[0m\n\u001B[0;31mSyntaxError\u001B[0m\u001B[0;31m:\u001B[0m incomplete input\n"
     ]
    }
   ],
   "source": [
    "def generate_rdf(df):\n",
    "    skos = Namespace(\"http://www.w3.org/2004/02/skos/core#\")\n",
    "    jl = Namespace(\"http://data.judaicalink.org/ontology/\")\n",
    "    foaf = Namespace(\"http://xmlns.com/foaf/0.1/\")\n",
    "    gndo = Namespace(\"http://d-nb.info/standards/elementset/gnd#\")\n",
    "    owl = Namespace(\"http://www.w3.org/2002/07/owl#\")\n",
    "    edm = Namespace(\"http://www.europeana.eu/schemas/edm/\")\n",
    "    dc = Namespace(\"http://purl.org/dc/elements/1.1/\")\n",
    "    dcterms = Namespace(\"http://purl.org/dc/terms/\")\n",
    "\n",
    "    graph.bind('skos', skos)\n",
    "    graph.bind('foaf', foaf)\n",
    "    graph.bind('jl', jl)\n",
    "    graph.bind('gndo', gndo)\n",
    "    graph.bind('owl', owl)\n",
    "    graph.bind('edm', edm)\n",
    "    graph.bind('dc', dc)\n",
    "\n"
   ],
   "metadata": {
    "collapsed": false,
    "pycharm": {
     "name": "#%%\n"
    }
   }
  }
 ],
 "metadata": {
  "kernelspec": {
   "display_name": "Python 3",
   "language": "python",
   "name": "python3"
  },
  "language_info": {
   "codemirror_mode": {
    "name": "ipython",
    "version": 2
   },
   "file_extension": ".py",
   "mimetype": "text/x-python",
   "name": "python",
   "nbconvert_exporter": "python",
   "pygments_lexer": "ipython2",
   "version": "2.7.6"
  }
 },
 "nbformat": 4,
 "nbformat_minor": 0
}