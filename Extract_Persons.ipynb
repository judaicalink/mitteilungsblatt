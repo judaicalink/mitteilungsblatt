{
 "cells": [
  {
   "cell_type": "markdown",
   "id": "072faedf",
   "metadata": {},
   "source": [
    "# Name Extraction\n",
    "* extract name from named entity results \n",
    "* extract names from name registries"
   ]
  },
  {
   "cell_type": "code",
   "execution_count": null,
   "id": "6b31f483",
   "metadata": {},
   "outputs": [],
   "source": [
    "import spacy"
   ]
  },
  {
   "cell_type": "code",
   "execution_count": null,
   "id": "3155ef94",
   "metadata": {},
   "outputs": [],
   "source": [
    "spacy_tools = spacy.load('de_core_news_lg')"
   ]
  },
  {
   "cell_type": "code",
   "execution_count": null,
   "id": "1b3f98cc",
   "metadata": {},
   "outputs": [],
   "source": [
    "def read(filename, one_line=False):\n",
    "    with open(filename, 'r') as txt_in:\n",
    "        if one_line:\n",
    "            text = txt_in.read()\n",
    "        else:\n",
    "            text = [line.strip() for line in txt_in]\n",
    "    return text"
   ]
  },
  {
   "cell_type": "code",
   "execution_count": null,
   "id": "50f5c2ed",
   "metadata": {},
   "outputs": [],
   "source": [
    "samples_dir = \"data/OCR results/FR 14 Enterprise OCR results/\""
   ]
  },
  {
   "cell_type": "code",
   "execution_count": null,
   "id": "9402b587",
   "metadata": {},
   "outputs": [],
   "source": [
    "sample_1_path = samples_dir + \"1936_10_full.txt\"\n",
    "sample_1 = read(sample_1_path, one_line=True)"
   ]
  },
  {
   "cell_type": "code",
   "execution_count": null,
   "id": "44d42e6b",
   "metadata": {},
   "outputs": [],
   "source": [
    "annotations_1 = spacy_tools(sample_1)"
   ]
  },
  {
   "cell_type": "code",
   "execution_count": null,
   "id": "05cb55db",
   "metadata": {},
   "outputs": [],
   "source": [
    "persons = []\n",
    "PER = \"PER\"\n",
    "for entity in annotations_1.ents:\n",
    "    if entity.label_ == PER:\n",
    "        persons.append((entity.text, entity.label_))"
   ]
  },
  {
   "cell_type": "code",
   "execution_count": null,
   "id": "24b3c1a3",
   "metadata": {},
   "outputs": [],
   "source": [
    "# clean named entities\n",
    "# Manager, Avenue, Bank of, Str\n",
    "\n",
    "# all upper\n",
    "# delete - , but not always\n",
    "not_in_name = [\"\\n\", \",\"]\n",
    "role_nouns = []\n",
    "\n",
    "street_indicator = [\"Avenue\", \"Str.\", \"Av.\", \"Ave.\"]\n",
    "titles = [\"Dr.\", \"Hr.\", \"Fr.\", \"Frl.\"]"
   ]
  },
  {
   "cell_type": "code",
   "execution_count": null,
   "id": "987419c1",
   "metadata": {},
   "outputs": [],
   "source": [
    "names_only = [person[0] for person in persons]"
   ]
  },
  {
   "cell_type": "code",
   "execution_count": null,
   "id": "0d7e2960",
   "metadata": {},
   "outputs": [],
   "source": [
    "from collections import Counter "
   ]
  },
  {
   "cell_type": "code",
   "execution_count": null,
   "id": "30cf3d1d",
   "metadata": {},
   "outputs": [],
   "source": [
    "cnt = Counter(names_only)"
   ]
  },
  {
   "cell_type": "code",
   "execution_count": null,
   "id": "1efa5a34",
   "metadata": {},
   "outputs": [],
   "source": [
    "cnt.most_common()"
   ]
  },
  {
   "cell_type": "code",
   "execution_count": null,
   "id": "c451fa57",
   "metadata": {},
   "outputs": [],
   "source": [
    "names_only_no_streets = [entry for entry in names_only if not entry.endswith(\"Str.\")]"
   ]
  },
  {
   "cell_type": "code",
   "execution_count": null,
   "id": "ab8d9a6f",
   "metadata": {},
   "outputs": [],
   "source": [
    "len(names_only_no_streets)"
   ]
  },
  {
   "cell_type": "code",
   "execution_count": null,
   "id": "a91711fb",
   "metadata": {},
   "outputs": [],
   "source": [
    "# simple case \"firstname lastname\"\n",
    "names = {\"title\":[], \"first name\": [], \"last name\": [], \"original\": []}\n",
    "\n",
    "clean_end = [\",\", \"\\n\"]\n",
    "\n",
    "#def simple_first_last()\n",
    "\n",
    "for entry in names_only:\n",
    "    if \" \" not in entry:\n",
    "        names[\"original\"].append(entry)\n",
    "        names[\"last name\"].append(entry)\n",
    "    elif len(entry.split(\" \")) == 2:\n",
    "        entry = entry.split(\" \")\n",
    "        if entry[1] not in street_indicator:\n",
    "            names[\"original\"].append(\" \".join(entry))\n",
    "            if entry[0] in titles:\n",
    "                names[\"title\"].append(entry[0])\n",
    "                names[\"first name\"].append(\"-\")\n",
    "            else:\n",
    "                names[\"title\"].append(\"-\")\n",
    "                names[\"first name\"].append(entry[0])\n",
    "            names[\"last name\"].append(entry[1])\n",
    "        continue\n",
    "    #elif \",\" in entry:\n",
    "        \n",
    "        \n",
    "    \n",
    "    \n",
    "    names[\"first name\"].append(\"-\")\n",
    "    names[\"title\"].append(\"-\")"
   ]
  },
  {
   "cell_type": "code",
   "execution_count": null,
   "id": "0a7d0842",
   "metadata": {},
   "outputs": [],
   "source": [
    "len(names[\"title\"])"
   ]
  },
  {
   "cell_type": "markdown",
   "id": "c2e9f4ad",
   "metadata": {},
   "source": [
    "## Namensregister\n"
   ]
  },
  {
   "cell_type": "code",
   "execution_count": null,
   "id": "b184662d",
   "metadata": {},
   "outputs": [],
   "source": [
    "import pandas as pd"
   ]
  },
  {
   "cell_type": "code",
   "execution_count": null,
   "id": "8c566828",
   "metadata": {},
   "outputs": [],
   "source": [
    "import re"
   ]
  },
  {
   "cell_type": "code",
   "execution_count": null,
   "id": "021e0b39",
   "metadata": {},
   "outputs": [],
   "source": [
    "o_pattern = re.compile(\"\\do:|\\d|\\.| |;\")\n",
    "o_replace_pattern = re.compile(\"\\d0:|\\d|\\.| \")"
   ]
  },
  {
   "cell_type": "code",
   "execution_count": null,
   "id": "28a3d2fd",
   "metadata": {},
   "outputs": [],
   "source": [
    "# hacky, should use another re function for this\n",
    "def replace_o(register):\n",
    "    for j, line in enumerate(register):\n",
    "        if \"o\" in line:\n",
    "            for i,char in enumerate(line):\n",
    "                if char == \"o\":\n",
    "                    to_check = line[i-1:i+2]\n",
    "                    if re.match(o_pattern,to_check):\n",
    "                        register[j] = line[:i] + \"0\" + line[i+1:]\n",
    "    return register"
   ]
  },
  {
   "cell_type": "code",
   "execution_count": null,
   "id": "d9bfc241",
   "metadata": {},
   "outputs": [],
   "source": [
    "pattern_date_issue = re.compile(\"\\d+:\\d+\\.\\d+\\.\\d+\")\n",
    "patter_date = re.compile(\"\\d+\\.\\d+\\.\\d+\")"
   ]
  },
  {
   "cell_type": "code",
   "execution_count": null,
   "id": "fb7faeee",
   "metadata": {},
   "outputs": [],
   "source": [
    "TITLES = [\"Dr.\", \"Prof.\", \"Rabb.\"]\n",
    "DATE_OF_DEATH = [\"Nachruf\", \"Todesanzeige\"]\n",
    "\n",
    "\n",
    "def extract_data(name_lines):\n",
    "    data = []\n",
    "    \n",
    "    for line in name_lines:\n",
    "        result = {}\n",
    "        if len(line[0].split(\",\")) == 2:\n",
    "            last, first = line[0].split(\",\")\n",
    "        else:\n",
    "            line = line[0].split(\",\")\n",
    "            last = line[0]\n",
    "            first = \".\".join(line[1:])\n",
    "        if not len(last) == 0 and not last[0].isalpha():\n",
    "            continue\n",
    "                \n",
    "        for title in TITLES:\n",
    "            if first.startswith(title):\n",
    "                first = first.split(title)[1]\n",
    "                result[\"title\"] = title\n",
    "                break\n",
    "        if \"(\" in first and \")\" in first:\n",
    "            split_first = first.split(\"(\")\n",
    "            first = split_first[0]\n",
    "            if not all(element.isalpha() for element in split_first[1]):\n",
    "                date = split_first[1].split(\")\")[0]\n",
    "                if date[0].isdigit():\n",
    "                    result[\"Geburt/Tod\"] = date\n",
    "        result[\"first name\"] = first\n",
    "        result[\"last name\"] = last\n",
    "\n",
    "        other = []\n",
    "        for element in line[1:]:\n",
    "            if element in DATE_OF_DEATH:\n",
    "                result[\"nachruf/tode\"] = element\n",
    "            elif pattern_date_issue.match(element):\n",
    "                element = element.split(\":\")\n",
    "                result[\"jub\"] = element[0]\n",
    "                #result[\"issue_date\"] = element[1]\n",
    "\n",
    "                el = element[1]\n",
    "                if \"(\" in el:\n",
    "                    other.extend(el.split(\"(\")[1:])\n",
    "                    result[\"issue_date\"] = el.split(\"(\")[0]\n",
    "                else:\n",
    "                    result[\"issue_date\"] = el\n",
    "\n",
    "            elif patter_date.match(element):\n",
    "                if \"(\" in element:\n",
    "                    other.extend(element.split(\"(\")[1:])\n",
    "                    result[\"issue_date\"] = element.split(\"(\")[0]\n",
    "                else:\n",
    "                    result[\"issue_date\"] = element\n",
    "\n",
    "            else:\n",
    "                other.append(element)\n",
    "        result[\"other\"] = \"  \".join(other)\n",
    "        data.append(result)\n",
    "        \n",
    "    return data"
   ]
  },
  {
   "cell_type": "code",
   "execution_count": null,
   "id": "33cc7ced",
   "metadata": {},
   "outputs": [],
   "source": [
    "KEYS = [\"last name\",\"first name\",\"title\", \"nachruf/tode\", \"jub\", \"issue_date\", \"other\", \"Geburt/Tod\"]\n",
    "def fill_blanks(data):\n",
    "    for entry in data:\n",
    "        for key in KEYS:\n",
    "            if key not in entry:\n",
    "                entry[key] = \"-\"\n",
    "    return data"
   ]
  },
  {
   "cell_type": "code",
   "execution_count": null,
   "id": "c63a2c85",
   "metadata": {},
   "outputs": [],
   "source": [
    "ID_NAME = \"MBNR.\""
   ]
  },
  {
   "cell_type": "code",
   "execution_count": null,
   "id": "a52e1563",
   "metadata": {},
   "outputs": [],
   "source": [
    "def get_fp_id(fp):\n",
    "    fp.name.split(\"_\")"
   ]
  },
  {
   "cell_type": "code",
   "execution_count": null,
   "id": "4d40525f",
   "metadata": {},
   "outputs": [],
   "source": [
    "def convert_to_table(txt_fp, txt_out):\n",
    "    register = read(txt_fp)\n",
    "    register = replace_o(register)\n",
    "    split_lines = [line.split(\" \") for line in register]\n",
    "    name_lines = [line for line in split_lines if \",\" in line[0]]\n",
    "    \n",
    "    data = extract_data(name_lines)\n",
    "    data = fill_blanks(data)\n",
    "    df = pd.DataFrame(data)\n",
    "        \n",
    "    id_prefix = ID_NAME + txt_fp.name.split(\"_\")[0] + '.PER.'\n",
    "    id_col = []\n",
    "    for i in range(len(df)):\n",
    "        id_col.append(id_prefix + str(i))\n",
    "\n",
    "    df[\"ID\"] = id_col\n",
    "    df.to_csv(txt_out, index=False, sep=\";\")"
   ]
  },
  {
   "cell_type": "code",
   "execution_count": null,
   "id": "b754a581",
   "metadata": {},
   "outputs": [],
   "source": [
    "from pathlib import Path"
   ]
  },
  {
   "cell_type": "code",
   "execution_count": null,
   "id": "f9163eef",
   "metadata": {},
   "outputs": [],
   "source": [
    "input_dir = Path(\"namensregister/OCR/\")\n",
    "output_dir = Path(\"namensregister/csv/\")\n",
    "\n",
    "for f in input_dir.iterdir():\n",
    "    f_new = f.stem + \".csv\"\n",
    "    fp_new = output_dir / f_new\n",
    "    \n",
    "    convert_to_table(f, fp_new)"
   ]
  },
  {
   "cell_type": "markdown",
   "id": "57373611",
   "metadata": {},
   "source": [
    "### Name register full structuring"
   ]
  },
  {
   "cell_type": "code",
   "execution_count": null,
   "id": "9e28bb7c",
   "metadata": {},
   "outputs": [],
   "source": [
    "from collections import OrderedDict\n",
    "import json"
   ]
  },
  {
   "cell_type": "code",
   "execution_count": null,
   "id": "f18acec9",
   "metadata": {},
   "outputs": [],
   "source": [
    "def get_name(line):\n",
    "    if \",\" in line[0]:\n",
    "        if len(line[0].split(\",\")) == 2:\n",
    "                last, first = line[0].split(\",\")\n",
    "        else:\n",
    "            line_split = line[0].split(\",\")\n",
    "            last = line_split[0]\n",
    "            # fix title \n",
    "            first = \".\".join(line_split[1:])\n",
    "        remaining = line[1:]\n",
    "        if not len(last) == 0 and last[0].isalpha():\n",
    "            if len(first) == 0:\n",
    "                if line[1] in TITLES:\n",
    "                    if line[2].isalpha():\n",
    "                        first = \"\".join(line[1:3])\n",
    "                        remaining = line[3:]\n",
    "                elif line[1][:2].isalpha():\n",
    "                        first = line[1]\n",
    "                        remaining = line[2:]\n",
    "            return first, last, remaining\n",
    "    return False, False, False"
   ]
  },
  {
   "cell_type": "code",
   "execution_count": null,
   "id": "8e9f2b50",
   "metadata": {},
   "outputs": [],
   "source": [
    "# {id: {name: {first:, last:, title:}, info: []}}\n",
    "\n",
    "def extract_name_info(name_lines, id_key):\n",
    "    name_info = OrderedDict()\n",
    "    \n",
    "    for i, line in enumerate(name_lines):\n",
    "        first, last, remaining = get_name(line)\n",
    "        if last:\n",
    "            per_id = id_key + str(i)\n",
    "            name_info[per_id] = {\"name\":{}, \"info\":[]}\n",
    "            \n",
    "            for title in TITLES:\n",
    "                if first.startswith(title):\n",
    "                    first = first.split(title)[1]\n",
    "                    name_info[per_id][\"name\"][\"title\"] = title\n",
    "                    break\n",
    "            \n",
    "            if \"(\" in first:\n",
    "                split_first = first.split(\"(\")\n",
    "                first = split_first[0]\n",
    "                remaining_first = \"(\" + \"(\".join(split_first[1:])\n",
    "                name_info[per_id][\"info\"].append(remaining_first)\n",
    "        \n",
    "            name_info[per_id][\"name\"][\"first\"] = first\n",
    "            name_info[per_id][\"name\"][\"last\"] = last    \n",
    "            remaining_line = \" \".join(remaining)\n",
    "            name_info[per_id][\"info\"].append(remaining_line)\n",
    "        else:\n",
    "            if len(name_info) > 0:\n",
    "                last_key = list(name_info.keys())[-1]\n",
    "                name_info[last_key][\"info\"].append(\" \".join(line))\n",
    "    return name_info"
   ]
  },
  {
   "cell_type": "code",
   "execution_count": null,
   "id": "26390236",
   "metadata": {},
   "outputs": [],
   "source": [
    "def convert_to_json(txt_fp):\n",
    "    \n",
    "    register = read(txt_fp)\n",
    "    register = replace_o(register)\n",
    "    split_lines = [line.split(\" \") for line in register]\n",
    "    clean_lines = [line for line in split_lines if (len(line) != 1 and line[0] != \"\")]\n",
    "\n",
    "    id_prefix = ID_NAME + txt_fp.name.split(\"_\")[0] + '.PER.'\n",
    "    data = extract_name_info(clean_lines, id_prefix)\n",
    "    return data"
   ]
  },
  {
   "cell_type": "code",
   "execution_count": null,
   "id": "184f07a4",
   "metadata": {},
   "outputs": [],
   "source": [
    "def convert_to_json_print(txt_fp, out_fp):\n",
    "    \n",
    "    register = read(txt_fp)\n",
    "    register = replace_o(register)\n",
    "    split_lines = [line.split(\" \") for line in register]\n",
    "    clean_lines = [line for line in split_lines if (len(line) != 1 and line[0] != \"\")]\n",
    "\n",
    "    id_prefix = ID_NAME + txt_fp.name.split(\"_\")[0] + '.PER.'\n",
    "    data = extract_name_info(clean_lines, id_prefix)\n",
    "    \n",
    "    with open(out_fp, \"w\") as json_out:\n",
    "        json.dump(data, json_out, indent=4)\n",
    "    return data"
   ]
  },
  {
   "cell_type": "code",
   "execution_count": null,
   "id": "0c72ae45",
   "metadata": {},
   "outputs": [],
   "source": [
    "# save results in one dictionary\n",
    "input_dir = Path(\"namensregister/OCR/\")\n",
    "out_fp = Path(\"namensregister/json/MB_namenregister.json\")\n",
    "all_registers = {}\n",
    "for f in input_dir.iterdir():\n",
    "    if f.is_file():\n",
    "        result = convert_to_json(f)\n",
    "        all_registers.update(result)"
   ]
  },
  {
   "cell_type": "code",
   "execution_count": null,
   "id": "f9530d53",
   "metadata": {},
   "outputs": [],
   "source": [
    "with open(out_fp, \"w\") as json_out:\n",
    "    json.dump(all_registers, json_out, indent=4)"
   ]
  },
  {
   "cell_type": "code",
   "execution_count": null,
   "id": "d1edf9b6",
   "metadata": {},
   "outputs": [],
   "source": [
    "input_dir = Path(\"namensregister/OCR/\")\n",
    "output_dir = Path(\"namensregister/json/\")\n",
    "\n",
    "# need to exclude : 12_MB-RegisterJuni1985-Juli1990.pdf.txt - \n",
    "# use 12_MB-RegisterJuni1985-Juli1990-register-only.pdf.txt instead\n",
    "# save results by MB\n",
    "\n",
    "all_registers = {}\n",
    "for f in input_dir.iterdir():\n",
    "    if f.is_file():\n",
    "        f_new = f.stem + \".json\"\n",
    "        fp_new = output_dir / f_new\n",
    "        result = convert_to_json_print(f, fp_new)\n",
    "        all_registers[f.stem] = result"
   ]
  },
  {
   "cell_type": "markdown",
   "id": "f320f55e",
   "metadata": {},
   "source": [
    "### Link to resolved mentions"
   ]
  },
  {
   "cell_type": "code",
   "execution_count": null,
   "id": "7026309c",
   "metadata": {},
   "outputs": [],
   "source": [
    "parantheses = r\"\\([A-Za-z\\s,.]+\\)\""
   ]
  },
  {
   "cell_type": "code",
   "execution_count": null,
   "id": "9287621c",
   "metadata": {},
   "outputs": [],
   "source": [
    "contributor_fp = \"namensregister/author_information/mb-identified-contributors.txt\"\n",
    "def load_contributors(fp):\n",
    "    contributors = {}\n",
    "    with open(fp, 'r') as txt_in:\n",
    "        for line in txt_in.readlines():\n",
    "            line = line.strip().split(\":\")\n",
    "            abbr = line[-1].split(\",\")\n",
    "            last, first = line[0].split(\", \")\n",
    "            gid = \"https://d-nb.info/gnd/\" + line[1]\n",
    "            info = {\"last\": last, \"first\":first, \"GND-URI\":gid}\n",
    "            for entry in abbr:\n",
    "                contributors[entry] = info\n",
    "    return contributors"
   ]
  },
  {
   "cell_type": "code",
   "execution_count": null,
   "id": "e0bff3ec",
   "metadata": {},
   "outputs": [],
   "source": [
    "contributors = load_contributors(contributor_fp)"
   ]
  },
  {
   "cell_type": "code",
   "execution_count": null,
   "id": "d6de34b9",
   "metadata": {},
   "outputs": [],
   "source": [
    "len(all_registers)"
   ]
  },
  {
   "cell_type": "code",
   "execution_count": null,
   "id": "55d9b25d",
   "metadata": {},
   "outputs": [],
   "source": [
    "def add_authors_info(all_registers, contributors):\n",
    "    count = 0\n",
    "    for per_id, per_info in all_registers.items():\n",
    "        info = per_info[\"info\"]\n",
    "        for entry in info:\n",
    "            parentheses_found = re.findall(parantheses, entry)\n",
    "            if len(parentheses_found) > 0:\n",
    "                for p_entry in parentheses_found:\n",
    "                    for con in contributors:\n",
    "                        if con in p_entry:\n",
    "                            count += 1\n",
    "                            if \"authors\" not in all_registers[per_id]:\n",
    "                                all_registers[per_id][\"authors\"] = {}\n",
    "                            all_registers[per_id][\"authors\"][con] = contributors[con]\n",
    "    print(f\"Added authors to {count} persons\")\n",
    "    return all_registers          "
   ]
  },
  {
   "cell_type": "code",
   "execution_count": null,
   "id": "ac40024e",
   "metadata": {},
   "outputs": [],
   "source": [
    "all_registers = add_authors_info(all_registers, contributors)"
   ]
  },
  {
   "cell_type": "code",
   "execution_count": null,
   "id": "149ea1d7",
   "metadata": {},
   "outputs": [],
   "source": [
    "all_registers[\"MBNR.1.PER.185\"]"
   ]
  },
  {
   "cell_type": "code",
   "execution_count": null,
   "id": "909439c7",
   "metadata": {},
   "outputs": [],
   "source": [
    "with open(\"namensregister/json/MB_namenregister-authors.json\", 'w') as j_out:\n",
    "     json.dump(all_registers, j_out, indent=4)"
   ]
  }
 ],
 "metadata": {
  "kernelspec": {
   "display_name": "Python 3 (ipykernel)",
   "language": "python",
   "name": "python3"
  },
  "language_info": {
   "codemirror_mode": {
    "name": "ipython",
    "version": 3
   },
   "file_extension": ".py",
   "mimetype": "text/x-python",
   "name": "python",
   "nbconvert_exporter": "python",
   "pygments_lexer": "ipython3",
   "version": "3.9.9"
  }
 },
 "nbformat": 4,
 "nbformat_minor": 5
}
